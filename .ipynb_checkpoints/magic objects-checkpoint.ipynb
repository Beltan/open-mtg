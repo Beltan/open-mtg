{
 "cells": [
  {
   "cell_type": "code",
   "execution_count": 1,
   "metadata": {
    "collapsed": false
   },
   "outputs": [],
   "source": [
    "import numpy as np\n",
    "import random\n",
    "from cards import *\n",
    "from players import *\n",
    "from game import *    \n",
    "from random_policy import *\n",
    "from decklists import *"
   ]
  },
  {
   "cell_type": "code",
   "execution_count": 5,
   "metadata": {
    "collapsed": false,
    "scrolled": true
   },
   "outputs": [
    {
     "ename": "IndentationError",
     "evalue": "expected an indented block (<ipython-input-5-87391bf0a0a8>, line 12)",
     "output_type": "error",
     "traceback": [
      "\u001b[0;36m  File \u001b[0;32m\"<ipython-input-5-87391bf0a0a8>\"\u001b[0;36m, line \u001b[0;32m12\u001b[0m\n\u001b[0;31m    if game.phases[game.current_phase_index] == \"Main Phase\":\u001b[0m\n\u001b[0m     ^\u001b[0m\n\u001b[0;31mIndentationError\u001b[0m\u001b[0;31m:\u001b[0m expected an indented block\n"
     ]
    }
   ],
   "source": [
    "#%%capture\n",
    "player_0_wins = 0\n",
    "player_1_wins = 0\n",
    "for i in range(10):\n",
    "    game = Game(Player(get_bear_wars_deck()), Player(get_bear_wars_deck()))\n",
    "    game.start_game()\n",
    "    while not game.is_over():\n",
    "        #print(\"Current Game Phase: %s\"  % (game.phases[game.current_phase_index]))\n",
    "        if game.player_with_priority.index is 0:\n",
    "            move = game.player_with_priority.determine_move(method=\"random\", game=game)\n",
    "        else:\n",
    "            if game.phases[game.current_phase_index] == \"Main Phase\":\n",
    "                move = game.player_with_priority.determine_move(method=\"alphabeta\", game=game)\n",
    "            else:\n",
    "                move = game.player_with_priority.determine_move(method=\"random\", game=game)\n",
    "        game.make_move(game.player_with_priority, move)    \n",
    "        #print(\"heuristic value: %i\" %(game.players[1].heuristic_value(game)))\n",
    "    player_0_wins += game.players[0].wins\n",
    "    player_1_wins += game.players[1].wins\n",
    "    print(\"game is over! current standings: %i - %i\" % (player_0_wins, player_1_wins))\n",
    "print(\"player 0 wins: %i, player 1 wins: %i\" % (player_0_wins, player_1_wins))\n"
   ]
  },
  {
   "cell_type": "code",
   "execution_count": 3,
   "metadata": {
    "collapsed": false
   },
   "outputs": [
    {
     "name": "stdout",
     "output_type": "stream",
     "text": [
      "player 0 wins: 0, player 1 wins: 0\n"
     ]
    }
   ],
   "source": [
    "print(\"player 0 wins: %i, player 1 wins: %i\" % (player_0_wins, player_1_wins))"
   ]
  }
 ],
 "metadata": {
  "kernelspec": {
   "display_name": "Python 3",
   "language": "python",
   "name": "python3"
  },
  "language_info": {
   "codemirror_mode": {
    "name": "ipython",
    "version": 3
   },
   "file_extension": ".py",
   "mimetype": "text/x-python",
   "name": "python",
   "nbconvert_exporter": "python",
   "pygments_lexer": "ipython3",
   "version": "3.5.2"
  }
 },
 "nbformat": 4,
 "nbformat_minor": 1
}
